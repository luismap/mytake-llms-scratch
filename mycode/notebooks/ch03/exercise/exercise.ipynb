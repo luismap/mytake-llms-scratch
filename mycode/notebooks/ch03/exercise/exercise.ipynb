{
 "cells": [
  {
   "cell_type": "markdown",
   "id": "fa3901c4",
   "metadata": {},
   "source": [
    "# exe 3.1 p.91\n",
    "Your task is to correctly assign the weights from an instance of SelfAttention_v2 to\n",
    "an instance of SelfAttention_v1. To do this, you need to understand the\n",
    "relationship between the weights in both versions. (Hint: nn.Linear stores the\n",
    "weight matrix in a transposed form.) After the assignment, you should observe that\n",
    "both instances produce the same outputs."
   ]
  },
  {
   "cell_type": "code",
   "execution_count": 2,
   "id": "11f2c50f",
   "metadata": {},
   "outputs": [],
   "source": [
    "import torch.nn as nn\n",
    "import torch"
   ]
  },
  {
   "cell_type": "code",
   "execution_count": 5,
   "id": "5558bc96",
   "metadata": {},
   "outputs": [],
   "source": [
    "inputs = torch.tensor(\n",
    "  [[0.43, 0.15, 0.89], # Your     (x^1)\n",
    "   [0.55, 0.87, 0.66], # journey  (x^2)\n",
    "   [0.57, 0.85, 0.64], # starts   (x^3)\n",
    "   [0.22, 0.58, 0.33], # with     (x^4)\n",
    "   [0.77, 0.25, 0.10], # one      (x^5)\n",
    "   [0.05, 0.80, 0.55]] # step     (x^6)\n",
    ")"
   ]
  },
  {
   "cell_type": "code",
   "execution_count": 86,
   "id": "802015c3",
   "metadata": {},
   "outputs": [
    {
     "data": {
      "text/plain": [
       "<torch._C.Generator at 0x11930bd10>"
      ]
     },
     "execution_count": 86,
     "metadata": {},
     "output_type": "execute_result"
    }
   ],
   "source": [
    "torch.manual_seed(1234)"
   ]
  },
  {
   "cell_type": "code",
   "execution_count": 87,
   "id": "b5d65517",
   "metadata": {},
   "outputs": [
    {
     "data": {
      "text/plain": [
       "'\\ninputs: A(6x3)\\nweight matrices: WQ(3,2), WK(3,2), WV(3,2) # random init, 3 input embedding size, 2 chosen emdedding dimensions\\nK,V: K(6,2) = A * WK, V = A * WV\\nQY[i]: QY[i](1,2) = A[i](1,3) * Q(3,2) # QY is query for element i, i.e attention given to token i by all other tokens\\nattention scores: S(1,6) = QY[i](1,2) * K.T(2,6)\\nembedding dim: ED = K.shape[1] # \\nattention weights [i]: AW(1,6) = softmax(S/sqrt(ED), dim=-1). aka. softmax on rows. we divide by square root of ED (why ??)\\ncontext vector [i]: AW(1,6) * V(6,2) \\n'"
      ]
     },
     "execution_count": 87,
     "metadata": {},
     "output_type": "execute_result"
    }
   ],
   "source": [
    "\"\"\"\n",
    "inputs: A(6x3)\n",
    "weight matrices: WQ(3,2), WK(3,2), WV(3,2) # random init, 3 input embedding size, 2 chosen emdedding dimensions\n",
    "K,V: K(6,2) = A * WK, V = A * WV\n",
    "QY[i]: QY[i](1,2) = A[i](1,3) * Q(3,2) # QY is query for element i, i.e attention given to token i by all other tokens\n",
    "attention scores: S(1,6) = QY[i](1,2) * K.T(2,6)\n",
    "embedding dim: ED = K.shape[1] # \n",
    "attention weights [i]: AW(1,6) = softmax(S/sqrt(ED), dim=-1). aka. softmax on rows. we divide by square root of ED (why ??)\n",
    "context vector [i]: AW(1,6) * V(6,2) \n",
    "\"\"\""
   ]
  },
  {
   "cell_type": "code",
   "execution_count": 88,
   "id": "85599cba",
   "metadata": {},
   "outputs": [],
   "source": [
    "class SelfAttentioV1(nn.Module):\n",
    "    def __init__(self, d_in, d_out) -> None:\n",
    "        super().__init__()\n",
    "        self.d_out = d_out\n",
    "        self.W_query = nn.Parameter(torch.rand(d_in, d_out))\n",
    "        self.W_keys = nn.Parameter(torch.rand(d_in, d_out))\n",
    "        self.W_values = nn.Parameter(torch.rand(d_in, d_out))\n",
    "\n",
    "    def forward(self, x: torch.Tensor):\n",
    "        queries = x @ self.W_query\n",
    "        keys = x @ self.W_keys\n",
    "        values = x @ self.W_values\n",
    "\n",
    "        attn_score = queries @ keys.T\n",
    "        attn_weights = torch.softmax(attn_score / keys.shape[-1]**0.5, dim=-1)\n",
    "        contextvec = attn_weights @ values\n",
    "        return contextvec"
   ]
  },
  {
   "cell_type": "code",
   "execution_count": 89,
   "id": "9a5b325b",
   "metadata": {},
   "outputs": [],
   "source": [
    "class SelfAttentioV2(nn.Module):\n",
    "    def __init__(self, d_in, d_out, qkv_bias=False) -> None:\n",
    "        super().__init__()\n",
    "        self.d_out = d_out\n",
    "        self.W_query = nn.Linear(d_in, d_out, qkv_bias)\n",
    "        self.W_keys = nn.Linear(d_in, d_out, qkv_bias)\n",
    "        self.W_values = nn.Linear(d_in, d_out, qkv_bias)\n",
    "\n",
    "    def forward(self, x: torch.Tensor):\n",
    "        queries = self.W_query(x)\n",
    "        keys = self.W_keys(x)\n",
    "        values = self.W_values(x)\n",
    "\n",
    "        attn_score = queries @ keys.T\n",
    "        attn_weights = torch.softmax(attn_score / keys.shape[-1]**0.5, dim=-1)\n",
    "        contextvec = attn_weights @ values\n",
    "        return contextvec"
   ]
  },
  {
   "cell_type": "code",
   "execution_count": 90,
   "id": "084dec44",
   "metadata": {},
   "outputs": [],
   "source": [
    "d_in = inputs.shape[1]\n",
    "d_out = 2\n",
    "sav1 = SelfAttentioV1(d_in=d_in, d_out=d_out)\n",
    "sav2 = SelfAttentioV2(d_in=d_in, d_out=d_out)"
   ]
  },
  {
   "cell_type": "code",
   "execution_count": 91,
   "id": "43426319",
   "metadata": {},
   "outputs": [
    {
     "data": {
      "text/plain": [
       "tensor([[0.6641, 1.1324],\n",
       "        [0.6694, 1.1453],\n",
       "        [0.6691, 1.1446],\n",
       "        [0.6592, 1.1247],\n",
       "        [0.6570, 1.1190],\n",
       "        [0.6632, 1.1333]], grad_fn=<MmBackward0>)"
      ]
     },
     "execution_count": 91,
     "metadata": {},
     "output_type": "execute_result"
    }
   ],
   "source": [
    "sav1.forward(inputs)"
   ]
  },
  {
   "cell_type": "code",
   "execution_count": 92,
   "id": "97cf3f8c",
   "metadata": {},
   "outputs": [
    {
     "data": {
      "text/plain": [
       "tensor([[0.1478, 0.0307],\n",
       "        [0.1502, 0.0307],\n",
       "        [0.1502, 0.0308],\n",
       "        [0.1492, 0.0305],\n",
       "        [0.1498, 0.0320],\n",
       "        [0.1491, 0.0299]], grad_fn=<MmBackward0>)"
      ]
     },
     "execution_count": 92,
     "metadata": {},
     "output_type": "execute_result"
    }
   ],
   "source": [
    "sav2(inputs) # different output to sav1 because different initial weights"
   ]
  },
  {
   "cell_type": "code",
   "execution_count": 93,
   "id": "6c71a26f",
   "metadata": {},
   "outputs": [
    {
     "data": {
      "text/plain": [
       "Parameter containing:\n",
       "tensor([[ 0.5387,  0.2771, -0.0558],\n",
       "        [-0.0280,  0.3282, -0.4013]], requires_grad=True)"
      ]
     },
     "execution_count": 93,
     "metadata": {},
     "output_type": "execute_result"
    }
   ],
   "source": [
    "sav2.W_keys.weight"
   ]
  },
  {
   "cell_type": "code",
   "execution_count": 94,
   "id": "51816d80",
   "metadata": {},
   "outputs": [],
   "source": [
    "with torch.no_grad():\n",
    "    sav2.W_query.weight.copy_(sav1.W_query.T) # transposing because linear inverts d_in, d_out\n",
    "    sav2.W_keys.weight.copy_(sav1.W_keys.T)\n",
    "    sav2.W_values.weight.copy_(sav1.W_values.T)"
   ]
  },
  {
   "cell_type": "code",
   "execution_count": 106,
   "id": "2aac132f",
   "metadata": {},
   "outputs": [
    {
     "data": {
      "text/plain": [
       "tensor(10.7813, grad_fn=<SumBackward0>)"
      ]
     },
     "execution_count": 106,
     "metadata": {},
     "output_type": "execute_result"
    }
   ],
   "source": [
    "sav1.forward(inputs).sum()"
   ]
  },
  {
   "cell_type": "code",
   "execution_count": 107,
   "id": "d80178b5",
   "metadata": {},
   "outputs": [
    {
     "data": {
      "text/plain": [
       "tensor(10.7813, grad_fn=<SumBackward0>)"
      ]
     },
     "execution_count": 107,
     "metadata": {},
     "output_type": "execute_result"
    }
   ],
   "source": [
    "sav2.forward(inputs).sum()"
   ]
  },
  {
   "cell_type": "code",
   "execution_count": 108,
   "id": "03e7456b",
   "metadata": {},
   "outputs": [
    {
     "data": {
      "text/plain": [
       "tensor(True)"
      ]
     },
     "execution_count": 108,
     "metadata": {},
     "output_type": "execute_result"
    }
   ],
   "source": [
    "sav2.forward(inputs).sum().eq(sav1.forward(inputs).sum())"
   ]
  },
  {
   "cell_type": "markdown",
   "id": "babfc40a",
   "metadata": {},
   "source": [
    "# exe 3.2 p.105\n",
    "Change the input arguments for the MultiHeadAttentionWrapper(...,\n",
    "num_heads=2) call such that the output context vectors are 2-dimensional instead of\n",
    "4-dimensional while keeping the setting num_heads=2. Hint: You don't have to modify\n",
    "the class implementation; you just have to change one of the other input arguments"
   ]
  },
  {
   "cell_type": "code",
   "execution_count": 109,
   "id": "492b7248",
   "metadata": {},
   "outputs": [],
   "source": [
    "class CausalAttention(nn.Module):\n",
    "\n",
    "    def __init__(self, d_in, d_out, context_length,\n",
    "                 dropout, qkv_bias=False):\n",
    "        super().__init__()\n",
    "        self.d_out = d_out\n",
    "        self.W_query = nn.Linear(d_in, d_out, bias=qkv_bias)\n",
    "        self.W_key   = nn.Linear(d_in, d_out, bias=qkv_bias)\n",
    "        self.W_value = nn.Linear(d_in, d_out, bias=qkv_bias)\n",
    "        self.dropout = nn.Dropout(dropout) # New\n",
    "        self.register_buffer('mask', torch.triu(torch.ones(context_length, context_length), diagonal=1)) # New\n",
    "\n",
    "    def forward(self, x):\n",
    "        b, num_tokens, d_in = x.shape # New batch dimension b\n",
    "        # For inputs where `num_tokens` exceeds `context_length`, this will result in errors\n",
    "        # in the mask creation further below.\n",
    "        # In practice, this is not a problem since the LLM (chapters 4-7) ensures that inputs  \n",
    "        # do not exceed `context_length` before reaching this forward method. \n",
    "        #colorize(\"current x\", x)\n",
    "        #colorize(\"current keys\", self.W_key)\n",
    "        keys = self.W_key(x)\n",
    "        queries = self.W_query(x)\n",
    "        values = self.W_value(x)\n",
    "\n",
    "        attn_scores = queries @ keys.transpose(1, 2) # Changed transpose. (because batch, we need to pick the correct dimensions to transpose)\n",
    "        attn_scores.masked_fill_(  # New, _ ops are in-place\n",
    "            self.mask.bool()[:num_tokens, :num_tokens], -torch.inf)  # `:num_tokens` to account for cases where the number of tokens in the batch is smaller than the supported context_size\n",
    "        attn_weights = torch.softmax(\n",
    "            attn_scores / keys.shape[-1]**0.5, dim=-1\n",
    "        )\n",
    "        attn_weights = self.dropout(attn_weights) # New\n",
    "        context_vec = attn_weights @ values\n",
    "        return context_vec\n"
   ]
  },
  {
   "cell_type": "code",
   "execution_count": 110,
   "id": "72ccc363",
   "metadata": {},
   "outputs": [],
   "source": [
    "class MultiHeadAttentionWrapper(nn.Module):\n",
    "\n",
    "    def __init__(self, d_in, d_out, context_length, dropout, num_heads, qkv_bias=False):\n",
    "        super().__init__()\n",
    "        self.heads = nn.ModuleList(\n",
    "            [CausalAttention(d_in, d_out, context_length, dropout, qkv_bias) \n",
    "             for _ in range(num_heads)]\n",
    "        )\n",
    "\n",
    "    def forward(self, x):\n",
    "        return torch.cat([head(x) for head in self.heads], dim=-1)\n"
   ]
  },
  {
   "cell_type": "code",
   "execution_count": 116,
   "id": "651e0522",
   "metadata": {},
   "outputs": [
    {
     "data": {
      "text/plain": [
       "torch.Size([2, 6, 3])"
      ]
     },
     "execution_count": 116,
     "metadata": {},
     "output_type": "execute_result"
    }
   ],
   "source": [
    "m_inputs = torch.stack((inputs, inputs))\n",
    "m_inputs.shape"
   ]
  },
  {
   "cell_type": "code",
   "execution_count": 117,
   "id": "4a28accc",
   "metadata": {},
   "outputs": [],
   "source": [
    "context_length = m_inputs.shape[1]\n",
    "mhw = MultiHeadAttentionWrapper(d_in, d_out, context_length, 0.0, num_heads=2)"
   ]
  },
  {
   "cell_type": "code",
   "execution_count": 119,
   "id": "ca7cc926",
   "metadata": {},
   "outputs": [
    {
     "data": {
      "text/plain": [
       "tensor([[[ 0.5038,  0.5031, -0.0953, -0.1885],\n",
       "         [ 0.6263,  0.5726, -0.1220, -0.2307],\n",
       "         [ 0.6650,  0.5949, -0.1255, -0.2435],\n",
       "         [ 0.5994,  0.5285, -0.1250, -0.2207],\n",
       "         [ 0.5741,  0.5122, -0.0639, -0.2031],\n",
       "         [ 0.5554,  0.4860, -0.0948, -0.1998]],\n",
       "\n",
       "        [[ 0.5038,  0.5031, -0.0953, -0.1885],\n",
       "         [ 0.6263,  0.5726, -0.1220, -0.2307],\n",
       "         [ 0.6650,  0.5949, -0.1255, -0.2435],\n",
       "         [ 0.5994,  0.5285, -0.1250, -0.2207],\n",
       "         [ 0.5741,  0.5122, -0.0639, -0.2031],\n",
       "         [ 0.5554,  0.4860, -0.0948, -0.1998]]], grad_fn=<CatBackward0>)"
      ]
     },
     "execution_count": 119,
     "metadata": {},
     "output_type": "execute_result"
    }
   ],
   "source": [
    "mhw.forward(m_inputs) # will return context vector of 4 dims."
   ]
  },
  {
   "cell_type": "code",
   "execution_count": 120,
   "id": "f6e2d48b",
   "metadata": {},
   "outputs": [],
   "source": [
    "# answering question, output context vector Z will be 2 dims.\n",
    "# changes embeding params d_out\n",
    "context_length = m_inputs.shape[1]\n",
    "mhw = MultiHeadAttentionWrapper(d_in=d_in,\n",
    "                                d_out=1,\n",
    "                                context_length=context_length,\n",
    "                                dropout=0.0,\n",
    "                                num_heads=2)"
   ]
  },
  {
   "cell_type": "code",
   "execution_count": 121,
   "id": "9b15d114",
   "metadata": {},
   "outputs": [
    {
     "data": {
      "text/plain": [
       "tensor([[[-0.1148, -0.0951],\n",
       "         [-0.2139, -0.2602],\n",
       "         [-0.2433, -0.3208],\n",
       "         [-0.2428, -0.2998],\n",
       "         [-0.1736, -0.3359],\n",
       "         [-0.2111, -0.3115]],\n",
       "\n",
       "        [[-0.1148, -0.0951],\n",
       "         [-0.2139, -0.2602],\n",
       "         [-0.2433, -0.3208],\n",
       "         [-0.2428, -0.2998],\n",
       "         [-0.1736, -0.3359],\n",
       "         [-0.2111, -0.3115]]], grad_fn=<CatBackward0>)"
      ]
     },
     "execution_count": 121,
     "metadata": {},
     "output_type": "execute_result"
    }
   ],
   "source": [
    "mhw.forward(m_inputs)"
   ]
  },
  {
   "cell_type": "markdown",
   "id": "9869fb9e",
   "metadata": {},
   "source": [
    "# exe 3.3 p.112\n",
    "Using the MultiHeadAttention class, initialize a multi-head attention module that\n",
    "has the same number of attention heads as the smallest GPT-2 model (12 attention\n",
    "heads). Also ensure that you use the respective input and output embedding sizes\n",
    "similar to GPT-2 (768 dimensions). Note that the smallest GPT-2 model supports a\n",
    "context length of 1024 tokens"
   ]
  },
  {
   "cell_type": "code",
   "execution_count": 122,
   "id": "6eb09ca7",
   "metadata": {},
   "outputs": [],
   "source": [
    "class MultiHeadAttention(nn.Module):\n",
    "    def __init__(self, d_in, d_out, context_length, dropout, num_heads, qkv_bias=False):\n",
    "        super().__init__()\n",
    "        assert (d_out % num_heads == 0), \\\n",
    "            \"d_out must be divisible by num_heads\"\n",
    "\n",
    "        self.d_out = d_out\n",
    "        self.num_heads = num_heads\n",
    "        self.head_dim = d_out // num_heads # Reduce the projection dim to match desired output dim\n",
    "        self.W_query = nn.Linear(d_in, d_out, bias=qkv_bias)\n",
    "        self.W_key = nn.Linear(d_in, d_out, bias=qkv_bias)\n",
    "        self.W_value = nn.Linear(d_in, d_out, bias=qkv_bias)\n",
    "        self.out_proj = nn.Linear(d_out, d_out)  # Linear layer to combine head outputs\n",
    "        self.dropout = nn.Dropout(dropout)\n",
    "        self.register_buffer(\n",
    "            \"mask\",\n",
    "            torch.triu(torch.ones(context_length, context_length),\n",
    "                       diagonal=1)\n",
    "        )\n",
    "\n",
    "    def forward(self, x):\n",
    "        b, num_tokens, d_in = x.shape\n",
    "        # As in `CausalAttention`, for inputs where `num_tokens` exceeds `context_length`, \n",
    "        # this will result in errors in the mask creation further below. \n",
    "        # In practice, this is not a problem since the LLM (chapters 4-7) ensures that inputs  \n",
    "        # do not exceed `context_length` before reaching this forwar\n",
    "\n",
    "        keys = self.W_key(x) # Shape: (b, num_tokens, d_out)\n",
    "        queries = self.W_query(x)\n",
    "        values = self.W_value(x)\n",
    "        \n",
    "        # We implicitly split the matrix by adding a `num_heads` dimension\n",
    "        # Unroll last dim: (b, num_tokens, d_out) -> (b, num_tokens, num_heads, head_dim)\n",
    "        keys = keys.view(b, num_tokens, self.num_heads, self.head_dim)\n",
    "        values = values.view(b, num_tokens, self.num_heads, self.head_dim)\n",
    "        queries = queries.view(b, num_tokens, self.num_heads, self.head_dim)\n",
    "\n",
    "        # Transpose: (b, num_tokens, num_heads, head_dim) -> (b, num_heads, num_tokens, head_dim)\n",
    "        keys = keys.transpose(1, 2)\n",
    "        queries = queries.transpose(1, 2)\n",
    "        values = values.transpose(1, 2)\n",
    "\n",
    "        # Compute scaled dot-product attention (aka self-attention) with a causal mask\n",
    "        attn_scores = queries @ keys.transpose(2, 3)  # Dot product for each head\n",
    "\n",
    "        # Original mask truncated to the number of tokens and converted to boolean\n",
    "        mask_bool = self.mask.bool()[:num_tokens, :num_tokens]\n",
    "\n",
    "        # Use the mask to fill attention scores\n",
    "        attn_scores.masked_fill_(mask_bool, -torch.inf)\n",
    "        \n",
    "        attn_weights = torch.softmax(attn_scores / keys.shape[-1]**0.5, dim=-1)\n",
    "        attn_weights = self.dropout(attn_weights)\n",
    "\n",
    "        # Shape: (b, num_tokens, num_heads, head_dim)\n",
    "        context_vec = (attn_weights @ values).transpose(1, 2) \n",
    "        \n",
    "        # Combine heads, where self.d_out = self.num_heads * self.head_dim\n",
    "        # calling contigous becuase of transpose operation before\n",
    "        context_vec = context_vec.contiguous().view(b, num_tokens, self.d_out)\n",
    "        context_vec = self.out_proj(context_vec) # optional projection\n",
    "\n",
    "        return context_vec\n"
   ]
  },
  {
   "cell_type": "code",
   "execution_count": 123,
   "id": "42602227",
   "metadata": {},
   "outputs": [],
   "source": [
    "d_in = 768\n",
    "d_out = 768\n",
    "num_heads = 12\n",
    "mha = MultiHeadAttention(d_in=d_in,\n",
    "                         d_out=d_out,\n",
    "                         context_length=d_in,\n",
    "                         dropout=0.0,\n",
    "                         num_heads=num_heads)"
   ]
  },
  {
   "cell_type": "code",
   "execution_count": 127,
   "id": "1c7ef64a",
   "metadata": {},
   "outputs": [
    {
     "data": {
      "text/plain": [
       "tensor([[[ 0.5950,  0.0020,  0.6558,  ..., -1.8559,  0.4435, -0.4682]],\n",
       "\n",
       "        [[ 1.2463, -1.6313,  1.6045,  ...,  1.2252,  0.8412,  1.4212]]])"
      ]
     },
     "execution_count": 127,
     "metadata": {},
     "output_type": "execute_result"
    }
   ],
   "source": [
    "gpt2_input = torch.randn((2,1,768))\n",
    "gpt2_input"
   ]
  },
  {
   "cell_type": "code",
   "execution_count": 129,
   "id": "bd86a70b",
   "metadata": {},
   "outputs": [
    {
     "data": {
      "text/plain": [
       "tensor([[[ 0.2079, -0.0523,  0.2395,  ...,  0.3321, -0.0538, -0.3146]],\n",
       "\n",
       "        [[-0.0594, -0.0500, -0.0887,  ...,  0.1867,  0.2560, -0.1950]]],\n",
       "       grad_fn=<ViewBackward0>)"
      ]
     },
     "execution_count": 129,
     "metadata": {},
     "output_type": "execute_result"
    }
   ],
   "source": [
    "step = mha.forward(gpt2_input)\n",
    "step"
   ]
  },
  {
   "cell_type": "code",
   "execution_count": 130,
   "id": "7e9d8df8",
   "metadata": {},
   "outputs": [
    {
     "data": {
      "text/plain": [
       "torch.Size([2, 1, 768])"
      ]
     },
     "execution_count": 130,
     "metadata": {},
     "output_type": "execute_result"
    }
   ],
   "source": [
    "step.shape"
   ]
  },
  {
   "cell_type": "code",
   "execution_count": null,
   "id": "b6ac5b1b",
   "metadata": {},
   "outputs": [],
   "source": []
  }
 ],
 "metadata": {
  "kernelspec": {
   "display_name": "llms-scratch",
   "language": "python",
   "name": "python3"
  },
  "language_info": {
   "codemirror_mode": {
    "name": "ipython",
    "version": 3
   },
   "file_extension": ".py",
   "mimetype": "text/x-python",
   "name": "python",
   "nbconvert_exporter": "python",
   "pygments_lexer": "ipython3",
   "version": "3.10.18"
  }
 },
 "nbformat": 4,
 "nbformat_minor": 5
}
