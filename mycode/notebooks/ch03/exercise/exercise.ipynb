{
 "cells": [
  {
   "cell_type": "markdown",
   "id": "fa3901c4",
   "metadata": {},
   "source": [
    "# exe 3.1 p.91\n",
    "Your task is to correctly assign the weights from an instance of SelfAttention_v2 to\n",
    "an instance of SelfAttention_v1. To do this, you need to understand the\n",
    "relationship between the weights in both versions. (Hint: nn.Linear stores the\n",
    "weight matrix in a transposed form.) After the assignment, you should observe that\n",
    "both instances produce the same outputs."
   ]
  },
  {
   "cell_type": "code",
   "execution_count": 2,
   "id": "11f2c50f",
   "metadata": {},
   "outputs": [],
   "source": [
    "import torch.nn as nn\n",
    "import torch"
   ]
  },
  {
   "cell_type": "code",
   "execution_count": 5,
   "id": "5558bc96",
   "metadata": {},
   "outputs": [],
   "source": [
    "inputs = torch.tensor(\n",
    "  [[0.43, 0.15, 0.89], # Your     (x^1)\n",
    "   [0.55, 0.87, 0.66], # journey  (x^2)\n",
    "   [0.57, 0.85, 0.64], # starts   (x^3)\n",
    "   [0.22, 0.58, 0.33], # with     (x^4)\n",
    "   [0.77, 0.25, 0.10], # one      (x^5)\n",
    "   [0.05, 0.80, 0.55]] # step     (x^6)\n",
    ")"
   ]
  },
  {
   "cell_type": "code",
   "execution_count": 86,
   "id": "802015c3",
   "metadata": {},
   "outputs": [
    {
     "data": {
      "text/plain": [
       "<torch._C.Generator at 0x11930bd10>"
      ]
     },
     "execution_count": 86,
     "metadata": {},
     "output_type": "execute_result"
    }
   ],
   "source": [
    "torch.manual_seed(1234)"
   ]
  },
  {
   "cell_type": "code",
   "execution_count": 87,
   "id": "b5d65517",
   "metadata": {},
   "outputs": [
    {
     "data": {
      "text/plain": [
       "'\\ninputs: A(6x3)\\nweight matrices: WQ(3,2), WK(3,2), WV(3,2) # random init, 3 input embedding size, 2 chosen emdedding dimensions\\nK,V: K(6,2) = A * WK, V = A * WV\\nQY[i]: QY[i](1,2) = A[i](1,3) * Q(3,2) # QY is query for element i, i.e attention given to token i by all other tokens\\nattention scores: S(1,6) = QY[i](1,2) * K.T(2,6)\\nembedding dim: ED = K.shape[1] # \\nattention weights [i]: AW(1,6) = softmax(S/sqrt(ED), dim=-1). aka. softmax on rows. we divide by square root of ED (why ??)\\ncontext vector [i]: AW(1,6) * V(6,2) \\n'"
      ]
     },
     "execution_count": 87,
     "metadata": {},
     "output_type": "execute_result"
    }
   ],
   "source": [
    "\"\"\"\n",
    "inputs: A(6x3)\n",
    "weight matrices: WQ(3,2), WK(3,2), WV(3,2) # random init, 3 input embedding size, 2 chosen emdedding dimensions\n",
    "K,V: K(6,2) = A * WK, V = A * WV\n",
    "QY[i]: QY[i](1,2) = A[i](1,3) * Q(3,2) # QY is query for element i, i.e attention given to token i by all other tokens\n",
    "attention scores: S(1,6) = QY[i](1,2) * K.T(2,6)\n",
    "embedding dim: ED = K.shape[1] # \n",
    "attention weights [i]: AW(1,6) = softmax(S/sqrt(ED), dim=-1). aka. softmax on rows. we divide by square root of ED (why ??)\n",
    "context vector [i]: AW(1,6) * V(6,2) \n",
    "\"\"\""
   ]
  },
  {
   "cell_type": "code",
   "execution_count": 88,
   "id": "85599cba",
   "metadata": {},
   "outputs": [],
   "source": [
    "class SelfAttentioV1(nn.Module):\n",
    "    def __init__(self, d_in, d_out) -> None:\n",
    "        super().__init__()\n",
    "        self.d_out = d_out\n",
    "        self.W_query = nn.Parameter(torch.rand(d_in, d_out))\n",
    "        self.W_keys = nn.Parameter(torch.rand(d_in, d_out))\n",
    "        self.W_values = nn.Parameter(torch.rand(d_in, d_out))\n",
    "\n",
    "    def forward(self, x: torch.Tensor):\n",
    "        queries = x @ self.W_query\n",
    "        keys = x @ self.W_keys\n",
    "        values = x @ self.W_values\n",
    "\n",
    "        attn_score = queries @ keys.T\n",
    "        attn_weights = torch.softmax(attn_score / keys.shape[-1]**0.5, dim=-1)\n",
    "        contextvec = attn_weights @ values\n",
    "        return contextvec"
   ]
  },
  {
   "cell_type": "code",
   "execution_count": 89,
   "id": "9a5b325b",
   "metadata": {},
   "outputs": [],
   "source": [
    "class SelfAttentioV2(nn.Module):\n",
    "    def __init__(self, d_in, d_out, qkv_bias=False) -> None:\n",
    "        super().__init__()\n",
    "        self.d_out = d_out\n",
    "        self.W_query = nn.Linear(d_in, d_out, qkv_bias)\n",
    "        self.W_keys = nn.Linear(d_in, d_out, qkv_bias)\n",
    "        self.W_values = nn.Linear(d_in, d_out, qkv_bias)\n",
    "\n",
    "    def forward(self, x: torch.Tensor):\n",
    "        queries = self.W_query(x)\n",
    "        keys = self.W_keys(x)\n",
    "        values = self.W_values(x)\n",
    "\n",
    "        attn_score = queries @ keys.T\n",
    "        attn_weights = torch.softmax(attn_score / keys.shape[-1]**0.5, dim=-1)\n",
    "        contextvec = attn_weights @ values\n",
    "        return contextvec"
   ]
  },
  {
   "cell_type": "code",
   "execution_count": 90,
   "id": "084dec44",
   "metadata": {},
   "outputs": [],
   "source": [
    "d_in = inputs.shape[1]\n",
    "d_out = 2\n",
    "sav1 = SelfAttentioV1(d_in=d_in, d_out=d_out)\n",
    "sav2 = SelfAttentioV2(d_in=d_in, d_out=d_out)"
   ]
  },
  {
   "cell_type": "code",
   "execution_count": 91,
   "id": "43426319",
   "metadata": {},
   "outputs": [
    {
     "data": {
      "text/plain": [
       "tensor([[0.6641, 1.1324],\n",
       "        [0.6694, 1.1453],\n",
       "        [0.6691, 1.1446],\n",
       "        [0.6592, 1.1247],\n",
       "        [0.6570, 1.1190],\n",
       "        [0.6632, 1.1333]], grad_fn=<MmBackward0>)"
      ]
     },
     "execution_count": 91,
     "metadata": {},
     "output_type": "execute_result"
    }
   ],
   "source": [
    "sav1.forward(inputs)"
   ]
  },
  {
   "cell_type": "code",
   "execution_count": 92,
   "id": "97cf3f8c",
   "metadata": {},
   "outputs": [
    {
     "data": {
      "text/plain": [
       "tensor([[0.1478, 0.0307],\n",
       "        [0.1502, 0.0307],\n",
       "        [0.1502, 0.0308],\n",
       "        [0.1492, 0.0305],\n",
       "        [0.1498, 0.0320],\n",
       "        [0.1491, 0.0299]], grad_fn=<MmBackward0>)"
      ]
     },
     "execution_count": 92,
     "metadata": {},
     "output_type": "execute_result"
    }
   ],
   "source": [
    "sav2(inputs) # different output to sav1 because different initial weights"
   ]
  },
  {
   "cell_type": "code",
   "execution_count": 93,
   "id": "6c71a26f",
   "metadata": {},
   "outputs": [
    {
     "data": {
      "text/plain": [
       "Parameter containing:\n",
       "tensor([[ 0.5387,  0.2771, -0.0558],\n",
       "        [-0.0280,  0.3282, -0.4013]], requires_grad=True)"
      ]
     },
     "execution_count": 93,
     "metadata": {},
     "output_type": "execute_result"
    }
   ],
   "source": [
    "sav2.W_keys.weight"
   ]
  },
  {
   "cell_type": "code",
   "execution_count": 94,
   "id": "51816d80",
   "metadata": {},
   "outputs": [],
   "source": [
    "with torch.no_grad():\n",
    "    sav2.W_query.weight.copy_(sav1.W_query.T) # transposing because linear inverts d_in, d_out\n",
    "    sav2.W_keys.weight.copy_(sav1.W_keys.T)\n",
    "    sav2.W_values.weight.copy_(sav1.W_values.T)"
   ]
  },
  {
   "cell_type": "code",
   "execution_count": 106,
   "id": "2aac132f",
   "metadata": {},
   "outputs": [
    {
     "data": {
      "text/plain": [
       "tensor(10.7813, grad_fn=<SumBackward0>)"
      ]
     },
     "execution_count": 106,
     "metadata": {},
     "output_type": "execute_result"
    }
   ],
   "source": [
    "sav1.forward(inputs).sum()"
   ]
  },
  {
   "cell_type": "code",
   "execution_count": 107,
   "id": "d80178b5",
   "metadata": {},
   "outputs": [
    {
     "data": {
      "text/plain": [
       "tensor(10.7813, grad_fn=<SumBackward0>)"
      ]
     },
     "execution_count": 107,
     "metadata": {},
     "output_type": "execute_result"
    }
   ],
   "source": [
    "sav2.forward(inputs).sum()"
   ]
  },
  {
   "cell_type": "code",
   "execution_count": 108,
   "id": "03e7456b",
   "metadata": {},
   "outputs": [
    {
     "data": {
      "text/plain": [
       "tensor(True)"
      ]
     },
     "execution_count": 108,
     "metadata": {},
     "output_type": "execute_result"
    }
   ],
   "source": [
    "sav2.forward(inputs).sum().eq(sav1.forward(inputs).sum())"
   ]
  },
  {
   "cell_type": "code",
   "execution_count": null,
   "id": "babfc40a",
   "metadata": {},
   "outputs": [],
   "source": []
  },
  {
   "cell_type": "code",
   "execution_count": null,
   "id": "492b7248",
   "metadata": {},
   "outputs": [],
   "source": []
  }
 ],
 "metadata": {
  "kernelspec": {
   "display_name": "llms-scratch",
   "language": "python",
   "name": "python3"
  },
  "language_info": {
   "codemirror_mode": {
    "name": "ipython",
    "version": 3
   },
   "file_extension": ".py",
   "mimetype": "text/x-python",
   "name": "python",
   "nbconvert_exporter": "python",
   "pygments_lexer": "ipython3",
   "version": "3.10.18"
  }
 },
 "nbformat": 4,
 "nbformat_minor": 5
}
